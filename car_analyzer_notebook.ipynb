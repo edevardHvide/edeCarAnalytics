{
 "cells": [
  {
   "cell_type": "code",
   "execution_count": 9,
   "metadata": {},
   "outputs": [
    {
     "ename": "ModuleNotFoundError",
     "evalue": "No module named 'matplotlib'",
     "output_type": "error",
     "traceback": [
      "\u001b[1;31m---------------------------------------------------------------------------\u001b[0m",
      "\u001b[1;31mModuleNotFoundError\u001b[0m                       Traceback (most recent call last)",
      "Cell \u001b[1;32mIn[9], line 1\u001b[0m\n\u001b[1;32m----> 1\u001b[0m \u001b[38;5;28;01mimport\u001b[39;00m \u001b[38;5;21;01mmatplotlib\u001b[39;00m\u001b[38;5;21;01m.\u001b[39;00m\u001b[38;5;21;01mpyplot\u001b[39;00m \u001b[38;5;28;01mas\u001b[39;00m \u001b[38;5;21;01mplt\u001b[39;00m\n",
      "\u001b[1;31mModuleNotFoundError\u001b[0m: No module named 'matplotlib'"
     ]
    }
   ],
   "source": [
    "import matplotlib.pyplot as plt"
   ]
  },
  {
   "cell_type": "code",
   "execution_count": null,
   "metadata": {},
   "outputs": [
    {
     "ename": "NameError",
     "evalue": "name 'plt' is not defined",
     "output_type": "error",
     "traceback": [
      "\u001b[1;31m---------------------------------------------------------------------------\u001b[0m",
      "\u001b[1;31mNameError\u001b[0m                                 Traceback (most recent call last)",
      "Cell \u001b[1;32mIn[3], line 52\u001b[0m\n\u001b[0;32m     49\u001b[0m costs \u001b[38;5;241m=\u001b[39m \u001b[38;5;28mlist\u001b[39m(jaguar_costs\u001b[38;5;241m.\u001b[39mvalues()) \u001b[38;5;241m+\u001b[39m [tesla[\u001b[38;5;124m'\u001b[39m\u001b[38;5;124mtotal_cost\u001b[39m\u001b[38;5;124m'\u001b[39m]]\n\u001b[0;32m     51\u001b[0m \u001b[38;5;66;03m# --- Plotting ---\u001b[39;00m\n\u001b[1;32m---> 52\u001b[0m \u001b[43mplt\u001b[49m\u001b[38;5;241m.\u001b[39mfigure(figsize\u001b[38;5;241m=\u001b[39m(\u001b[38;5;241m10\u001b[39m, \u001b[38;5;241m6\u001b[39m))\n\u001b[0;32m     53\u001b[0m bars \u001b[38;5;241m=\u001b[39m plt\u001b[38;5;241m.\u001b[39mbar(labels, costs)\n\u001b[0;32m     55\u001b[0m \u001b[38;5;66;03m# Highlight Tesla bar in a different color\u001b[39;00m\n",
      "\u001b[1;31mNameError\u001b[0m: name 'plt' is not defined"
     ]
    }
   ],
   "source": [
    "\n",
    "\n",
    "# --- Tesla Model Y Variables ---\n",
    "tesla = {\n",
    "    'name': 'Tesla Model Y',\n",
    "    'depreciation': 100_000,\n",
    "    'down_payment_interest': 30_943,\n",
    "    'insurance': 10_000 * 3,\n",
    "    'charging': 6_000,\n",
    "    'repairs': 15_000,\n",
    "}\n",
    "\n",
    "tesla['total_cost'] = (\n",
    "    tesla['depreciation']\n",
    "    + tesla['down_payment_interest']\n",
    "    + tesla['insurance']\n",
    "    + tesla['charging']\n",
    "    + tesla['repairs']\n",
    ")\n",
    "\n",
    "# --- Jaguar I-Pace Variables (Shared) ---\n",
    "jaguar_base = {\n",
    "    'name': 'Jaguar I-Pace',\n",
    "    'depreciation': 80_000,\n",
    "    'interest': 33_000,\n",
    "    'insurance': 12_000 * 3,\n",
    "    'charging': 8_000,\n",
    "}\n",
    "\n",
    "# Define Jaguar repair scenarios\n",
    "repair_scenarios = {\n",
    "    'Repairs 20k/yr': 20_000 * 3,\n",
    "    'Repairs 40k/yr': 40_000 * 3,\n",
    "    'Repairs 60k/yr': 60_000 * 3,\n",
    "}\n",
    "\n",
    "# Calculate total cost for each Jaguar scenario\n",
    "jaguar_costs = {}\n",
    "for label, repairs in repair_scenarios.items():\n",
    "    total = (\n",
    "        jaguar_base['depreciation']\n",
    "        + jaguar_base['interest']\n",
    "        + jaguar_base['insurance']\n",
    "        + jaguar_base['charging']\n",
    "        + repairs\n",
    "    )\n",
    "    jaguar_costs[label] = total\n",
    "\n",
    "# Add Tesla to the cost comparison\n",
    "labels = list(jaguar_costs.keys()) + [tesla['name']]\n",
    "costs = list(jaguar_costs.values()) + [tesla['total_cost']]\n",
    "\n",
    "# --- Plotting ---\n",
    "plt.figure(figsize=(10, 6))\n",
    "bars = plt.bar(labels, costs)\n",
    "\n",
    "# Highlight Tesla bar in a different color\n",
    "bars[-1].set_color('green')\n",
    "\n",
    "plt.ylabel(\"Total 3-Year Cost (kr)\")\n",
    "plt.title(\"3-Year Ownership Cost: Jaguar I-Pace vs Tesla Model Y\")\n",
    "plt.xticks(rotation=15)\n",
    "plt.grid(axis='y', linestyle='--', alpha=0.7)\n",
    "\n",
    "# Add value labels\n",
    "for bar in bars:\n",
    "    yval = bar.get_height()\n",
    "    plt.text(bar.get_x() + bar.get_width()/2, yval + 2000, f\"{int(yval):,} kr\", ha='center', va='bottom')\n",
    "\n",
    "plt.tight_layout()\n",
    "plt.show()\n"
   ]
  }
 ],
 "metadata": {
  "kernelspec": {
   "display_name": "Python 3",
   "language": "python",
   "name": "python3"
  },
  "language_info": {
   "codemirror_mode": {
    "name": "ipython",
    "version": 3
   },
   "file_extension": ".py",
   "mimetype": "text/x-python",
   "name": "python",
   "nbconvert_exporter": "python",
   "pygments_lexer": "ipython3",
   "version": "3.12.5"
  }
 },
 "nbformat": 4,
 "nbformat_minor": 2
}
